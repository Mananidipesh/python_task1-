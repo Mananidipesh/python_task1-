{
 "cells": [
  {
   "cell_type": "markdown",
   "id": "4f45bbd3-527b-4125-8ef5-da2d8ccbc93e",
   "metadata": {},
   "source": [
    "# 1) Lower()"
   ]
  },
  {
   "cell_type": "raw",
   "id": "c6c40918-9243-4b74-812f-47a66e54b396",
   "metadata": {},
   "source": [
    " Converts all uppercase characters in a string into lowercase"
   ]
  },
  {
   "cell_type": "code",
   "execution_count": 6,
   "id": "bd8982d4-08e7-4f6b-955a-0a1656046437",
   "metadata": {},
   "outputs": [],
   "source": [
    "var = \"SunDay\""
   ]
  },
  {
   "cell_type": "code",
   "execution_count": 7,
   "id": "c690a908-502a-46cb-ae55-6155c77980a5",
   "metadata": {},
   "outputs": [
    {
     "data": {
      "text/plain": [
       "'sunday'"
      ]
     },
     "execution_count": 7,
     "metadata": {},
     "output_type": "execute_result"
    }
   ],
   "source": [
    "var.lower()"
   ]
  },
  {
   "cell_type": "markdown",
   "id": "254d46cf-32cf-4d77-b7c4-c85a154798c7",
   "metadata": {},
   "source": [
    "# 2) Upper()"
   ]
  },
  {
   "cell_type": "raw",
   "id": "d62629df-c08f-412e-b217-4f7191889d84",
   "metadata": {},
   "source": [
    " Converts all lowercase characters in a string into Uppercase"
   ]
  },
  {
   "cell_type": "code",
   "execution_count": 8,
   "id": "38d5ee9e-a7b5-4707-9590-829e522a778a",
   "metadata": {},
   "outputs": [],
   "source": [
    "var = \"SUNday\""
   ]
  },
  {
   "cell_type": "code",
   "execution_count": 9,
   "id": "c0d60fac-e002-4d41-9125-014bcffe10c1",
   "metadata": {},
   "outputs": [
    {
     "data": {
      "text/plain": [
       "'SUNDAY'"
      ]
     },
     "execution_count": 9,
     "metadata": {},
     "output_type": "execute_result"
    }
   ],
   "source": [
    "var.upper()"
   ]
  },
  {
   "cell_type": "markdown",
   "id": "eab788d2-3bdc-46e2-a4f1-3199d2734f99",
   "metadata": {},
   "source": [
    "# 3) title()"
   ]
  },
  {
   "cell_type": "raw",
   "id": "6121663c-d462-4684-92ed-c4c0f87fbef2",
   "metadata": {},
   "source": [
    "Convert string to title case"
   ]
  },
  {
   "cell_type": "code",
   "execution_count": null,
   "id": "85459fb1-5b49-409d-a155-53b4f14565a8",
   "metadata": {},
   "outputs": [],
   "source": [
    "var = \"sunDAY\""
   ]
  },
  {
   "cell_type": "code",
   "execution_count": 10,
   "id": "de70b001-9a1b-451b-b015-c10b32c7831e",
   "metadata": {},
   "outputs": [
    {
     "data": {
      "text/plain": [
       "'Sunday'"
      ]
     },
     "execution_count": 10,
     "metadata": {},
     "output_type": "execute_result"
    }
   ],
   "source": [
    "var.title()"
   ]
  },
  {
   "cell_type": "markdown",
   "id": "b0f3ca74-579f-4139-adb5-b4a02d697089",
   "metadata": {},
   "source": [
    "# 4) find()"
   ]
  },
  {
   "cell_type": "raw",
   "id": "4e055f7a-257e-4bd7-ab79-923ea0a7ec5b",
   "metadata": {},
   "source": [
    "Returns the lowest index in the string where the substring is found"
   ]
  },
  {
   "cell_type": "code",
   "execution_count": 12,
   "id": "cbff3040-f214-4604-a655-b21926bf3a83",
   "metadata": {},
   "outputs": [],
   "source": [
    "txt = \"hello_world\""
   ]
  },
  {
   "cell_type": "code",
   "execution_count": 13,
   "id": "aff9ee4a-6cec-43d8-a8db-873da07bd968",
   "metadata": {},
   "outputs": [
    {
     "data": {
      "text/plain": [
       "6"
      ]
     },
     "execution_count": 13,
     "metadata": {},
     "output_type": "execute_result"
    }
   ],
   "source": [
    "txt.find(\"world\")"
   ]
  },
  {
   "cell_type": "markdown",
   "id": "303ab8a6-56b0-4321-9bd3-8a93398813d3",
   "metadata": {},
   "source": [
    "# 5) strip()"
   ]
  },
  {
   "cell_type": "raw",
   "id": "50ff47f5-2538-49f2-bb99-34afed88146f",
   "metadata": {},
   "source": [
    "Remove any unwanted space"
   ]
  },
  {
   "cell_type": "code",
   "execution_count": 14,
   "id": "c6daebce-a345-4594-aeba-943571ea749c",
   "metadata": {},
   "outputs": [],
   "source": [
    "txt = \"  hello world \""
   ]
  },
  {
   "cell_type": "code",
   "execution_count": 15,
   "id": "71b2d83f-5b93-4b8b-8878-4976e2193072",
   "metadata": {},
   "outputs": [
    {
     "data": {
      "text/plain": [
       "'hello world'"
      ]
     },
     "execution_count": 15,
     "metadata": {},
     "output_type": "execute_result"
    }
   ],
   "source": [
    "txt.strip()"
   ]
  },
  {
   "cell_type": "markdown",
   "id": "07d73738-1750-477b-a7a1-08fba89b2010",
   "metadata": {},
   "source": [
    "# 6) endswith()"
   ]
  },
  {
   "cell_type": "raw",
   "id": "cedc1610-c518-48f6-9e5c-e8338ba270cb",
   "metadata": {},
   "source": [
    "Returns “True” if a string ends with the given suffix"
   ]
  },
  {
   "cell_type": "code",
   "execution_count": 16,
   "id": "4e2387d7-7dfd-4f20-9d74-87a17c5f7215",
   "metadata": {},
   "outputs": [],
   "source": [
    "text = \"new world\""
   ]
  },
  {
   "cell_type": "code",
   "execution_count": 19,
   "id": "37e7ef0d-fa16-40ac-b21c-cc2a19b4c29f",
   "metadata": {},
   "outputs": [
    {
     "data": {
      "text/plain": [
       "True"
      ]
     },
     "execution_count": 19,
     "metadata": {},
     "output_type": "execute_result"
    }
   ],
   "source": [
    "text.endswith(\"d\")"
   ]
  },
  {
   "cell_type": "markdown",
   "id": "9e667077-4b98-437f-8465-bfdf50ee5bf3",
   "metadata": {},
   "source": [
    "# 7) startswith()"
   ]
  },
  {
   "cell_type": "raw",
   "id": "828417f4-f865-4d87-8bd6-c6d706ed6a4b",
   "metadata": {},
   "source": [
    "Returns “True” if a string starts with the given suffix"
   ]
  },
  {
   "cell_type": "code",
   "execution_count": 21,
   "id": "b1072cf2-8428-42a5-ae39-107879b1f8b8",
   "metadata": {},
   "outputs": [
    {
     "data": {
      "text/plain": [
       "False"
      ]
     },
     "execution_count": 21,
     "metadata": {},
     "output_type": "execute_result"
    }
   ],
   "source": [
    "text.startswith(\"j\")"
   ]
  },
  {
   "cell_type": "markdown",
   "id": "6a06772c-49f5-4314-a3a3-f997582d0494",
   "metadata": {},
   "source": [
    "# 8) count()"
   ]
  },
  {
   "cell_type": "raw",
   "id": "8411c913-d5e5-4c26-8739-3838da13294d",
   "metadata": {},
   "source": [
    "Returns the number of occurrences of a substring in the string."
   ]
  },
  {
   "cell_type": "code",
   "execution_count": 22,
   "id": "34070997-7069-4913-8769-6df0a73062a9",
   "metadata": {},
   "outputs": [],
   "source": [
    "sentence = \"today is sunday , sunday is amazing day\""
   ]
  },
  {
   "cell_type": "code",
   "execution_count": 23,
   "id": "14acf5c2-4756-4920-a205-833fd54338d6",
   "metadata": {},
   "outputs": [
    {
     "name": "stdout",
     "output_type": "stream",
     "text": [
      "2\n"
     ]
    }
   ],
   "source": [
    "print(sentence.count(\"sunday\"))"
   ]
  },
  {
   "cell_type": "markdown",
   "id": "f8983808-f141-465c-a67e-d8d28b1cfdd9",
   "metadata": {},
   "source": [
    "# 9) is_integer()"
   ]
  },
  {
   "cell_type": "raw",
   "id": "3a1d2a68-050a-4c2a-9829-07fff77ca30c",
   "metadata": {},
   "source": [
    "Check if a number is an integer"
   ]
  },
  {
   "cell_type": "code",
   "execution_count": 25,
   "id": "69d210eb-9262-463d-b359-7b5818c157b7",
   "metadata": {},
   "outputs": [],
   "source": [
    "digits = 898989"
   ]
  },
  {
   "cell_type": "code",
   "execution_count": 28,
   "id": "08dce2d4-cac5-40b3-93cc-54e69222c0f2",
   "metadata": {},
   "outputs": [
    {
     "data": {
      "text/plain": [
       "True"
      ]
     },
     "execution_count": 28,
     "metadata": {},
     "output_type": "execute_result"
    }
   ],
   "source": [
    "digits.is_integer()"
   ]
  },
  {
   "cell_type": "markdown",
   "id": "10a67e54-d57a-4378-a469-558901d3733b",
   "metadata": {},
   "source": [
    "# 10) is_upper()"
   ]
  },
  {
   "cell_type": "raw",
   "id": "34ea7967-c8c0-4d9f-a4e6-9a56434aca56",
   "metadata": {},
   "source": [
    "Check if a given string is in uppercase"
   ]
  },
  {
   "cell_type": "code",
   "execution_count": 29,
   "id": "5b017daf-3b98-430e-a656-d57a1ba0f5c3",
   "metadata": {},
   "outputs": [],
   "source": [
    "txt = \"AFTERNOON\""
   ]
  },
  {
   "cell_type": "code",
   "execution_count": 31,
   "id": "15a8c4c0-67b1-4238-a740-95853c69b56a",
   "metadata": {},
   "outputs": [
    {
     "data": {
      "text/plain": [
       "True"
      ]
     },
     "execution_count": 31,
     "metadata": {},
     "output_type": "execute_result"
    }
   ],
   "source": [
    "txt.isupper()"
   ]
  },
  {
   "cell_type": "markdown",
   "id": "598c3ed8-c6e7-40f3-95a8-74478312fed5",
   "metadata": {},
   "source": [
    "# 11) split()"
   ]
  },
  {
   "cell_type": "raw",
   "id": "13e7933a-21d9-4c9a-8983-9c651b2318b9",
   "metadata": {},
   "source": [
    "Splits the string "
   ]
  },
  {
   "cell_type": "code",
   "execution_count": 33,
   "id": "0a2015ab-6396-4c3d-bdb8-befaf1d4a819",
   "metadata": {},
   "outputs": [],
   "source": [
    "text = \"hello world\""
   ]
  },
  {
   "cell_type": "code",
   "execution_count": 34,
   "id": "e920031d-bfb6-424d-962e-0fc7e3b93a6f",
   "metadata": {},
   "outputs": [
    {
     "data": {
      "text/plain": [
       "['hello', 'world']"
      ]
     },
     "execution_count": 34,
     "metadata": {},
     "output_type": "execute_result"
    }
   ],
   "source": [
    "text.split()"
   ]
  },
  {
   "cell_type": "markdown",
   "id": "d99b6b1f-3da8-4ca2-8427-ea54984f927b",
   "metadata": {},
   "source": [
    "# 12) join()"
   ]
  },
  {
   "cell_type": "raw",
   "id": "dcb5635a-23b7-43f7-85bf-5246e0d0585d",
   "metadata": {},
   "source": [
    "joins elements of the iterable into a single string"
   ]
  },
  {
   "cell_type": "code",
   "execution_count": 35,
   "id": "1f3de8f0-09f4-423c-af41-dd6ce17f3448",
   "metadata": {},
   "outputs": [],
   "source": [
    "list = [\"hllo\" ,\" \" , \"world\"]"
   ]
  },
  {
   "cell_type": "code",
   "execution_count": 36,
   "id": "a6a11e1f-8985-4afd-a3ca-9ea2be95d0fd",
   "metadata": {},
   "outputs": [
    {
     "name": "stdout",
     "output_type": "stream",
     "text": [
      "hllo world\n"
     ]
    }
   ],
   "source": [
    "print(\"\".join(list))"
   ]
  },
  {
   "cell_type": "markdown",
   "id": "807371ba-6916-40f8-a4da-870bcc6c219e",
   "metadata": {},
   "source": [
    "# 13) isalpha()"
   ]
  },
  {
   "cell_type": "raw",
   "id": "88743589-3be3-470e-be1a-84731685845b",
   "metadata": {},
   "source": [
    "Returns True if all characters in the string are alphabetic"
   ]
  },
  {
   "cell_type": "code",
   "execution_count": 37,
   "id": "8b135e82-f291-4058-a379-10b3c0961a35",
   "metadata": {},
   "outputs": [],
   "source": [
    "a = \"true\""
   ]
  },
  {
   "cell_type": "code",
   "execution_count": 39,
   "id": "7245ab08-89d2-4bdb-9be9-9fdbb02d19ea",
   "metadata": {},
   "outputs": [
    {
     "data": {
      "text/plain": [
       "True"
      ]
     },
     "execution_count": 39,
     "metadata": {},
     "output_type": "execute_result"
    }
   ],
   "source": [
    "a.isalpha()"
   ]
  },
  {
   "cell_type": "markdown",
   "id": "098c98f0-b498-495e-8480-0547fe9d69d9",
   "metadata": {},
   "source": [
    "# 14) is_lower()"
   ]
  },
  {
   "cell_type": "raw",
   "id": "b14cbc99-a456-47a4-b407-717c623255bb",
   "metadata": {},
   "source": [
    "Returns True if all characters in the string are lowercase "
   ]
  },
  {
   "cell_type": "code",
   "execution_count": 42,
   "id": "9b35191d-a5c4-45bd-ba36-a689b32f28b4",
   "metadata": {},
   "outputs": [],
   "source": [
    "str = \"music\""
   ]
  },
  {
   "cell_type": "code",
   "execution_count": 43,
   "id": "5fd7c2d2-d588-49ff-98bd-c2a099ccd329",
   "metadata": {},
   "outputs": [
    {
     "data": {
      "text/plain": [
       "True"
      ]
     },
     "execution_count": 43,
     "metadata": {},
     "output_type": "execute_result"
    }
   ],
   "source": [
    "str.islower()"
   ]
  },
  {
   "cell_type": "markdown",
   "id": "e046cba4-eaf8-4ac5-a19f-393c03d770d3",
   "metadata": {},
   "source": [
    "# 15) is_title()"
   ]
  },
  {
   "cell_type": "raw",
   "id": "ccd178cb-1054-4027-90eb-916ed6458d7f",
   "metadata": {},
   "source": [
    "Returns True if the string is in title case"
   ]
  },
  {
   "cell_type": "code",
   "execution_count": 52,
   "id": "ddc56b04-7502-4d91-8838-d130b5b81eff",
   "metadata": {},
   "outputs": [],
   "source": [
    "a = \"Hello World\""
   ]
  },
  {
   "cell_type": "code",
   "execution_count": 53,
   "id": "998c7d82-643f-4f42-a114-22f498552f82",
   "metadata": {},
   "outputs": [
    {
     "data": {
      "text/plain": [
       "True"
      ]
     },
     "execution_count": 53,
     "metadata": {},
     "output_type": "execute_result"
    }
   ],
   "source": [
    "a.istitle()"
   ]
  },
  {
   "cell_type": "code",
   "execution_count": null,
   "id": "691beb91-3abd-443c-922e-5f7584748b3a",
   "metadata": {},
   "outputs": [],
   "source": []
  }
 ],
 "metadata": {
  "kernelspec": {
   "display_name": "Python 3 (ipykernel)",
   "language": "python",
   "name": "python3"
  },
  "language_info": {
   "codemirror_mode": {
    "name": "ipython",
    "version": 3
   },
   "file_extension": ".py",
   "mimetype": "text/x-python",
   "name": "python",
   "nbconvert_exporter": "python",
   "pygments_lexer": "ipython3",
   "version": "3.12.4"
  }
 },
 "nbformat": 4,
 "nbformat_minor": 5
}
